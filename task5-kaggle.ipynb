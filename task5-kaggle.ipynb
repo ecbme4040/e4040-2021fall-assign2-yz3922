{
 "cells": [
  {
   "cell_type": "markdown",
   "metadata": {},
   "source": [
    "## Columbia University\n",
    "### ECBM E4040 Neural Networks and Deep Learning. Fall 2021."
   ]
  },
  {
   "cell_type": "markdown",
   "metadata": {},
   "source": [
    "# ECBM E4040 - Assignment 2- Task 5: Kaggle Open-ended Competition\n",
    "\n",
    "Kaggle is a platform for predictive modelling and analytics competitions in which companies and researchers post data and statisticians and data miners compete to produce the best models for predicting and describing the data.\n",
    "\n",
    "If you don't have a Kaggle account, feel free to join at [www.kaggle.com](https://www.kaggle.com). To let the CAs do the grading more conveniently, please __use Lionmail to join Kaggle__ and __use UNI as your username__.\n",
    "\n",
    "The competition is located here: https://www.kaggle.com/c/ecbm4040-assignment-2-task-5/overview.\n",
    "\n",
    "You can find detailed description about this in-class competition on the website above. Please read carefully and follow the instructions.\n",
    "\n",
    "<span style=\"color:red\">__TODO__:</span>\n",
    "1. Train a custom model for the bottle dataset classification problem. You are free to use any methods taught in the class or found by yourself on the Internet (ALWAYS provide reference to the source).\n",
    "General training methods include:\n",
    "    * Dropout\n",
    "    * Batch normalization\n",
    "    * Early stopping\n",
    "    * l1-norm & l2-norm penalization\n",
    "    \n",
    "2. You are given the test set to generate your predictions (70% public + 30% private, but you don't know which ones are public/private). Students should achieve an accuracy on the public test set of at least 70%. Two points will be deducted for each 1% below 70% accuracy threshold (i.e. 65% accuracy will have 10 points deducted). The accuracy will be shown on the public leaderboard once you submit your prediction .csv file. The private leaderboard will be released after the competition. The final ranking is based on the private leaderboard result, not the public leaderboard.\n",
    "3. \n",
    "\n",
    "    * Report your results on the Kaggle, for comparison with other students' optimal results (you can do this several times). \n",
    "    * Save your best model, using Github Classroom, at the same time when you submit the homework files into Courseworks. See instructions below. \n",
    "\n",
    "__Hint__: You can start from what you implemented in task 4. Another classic classification model named 'VGG16' can also be easily implemented. Students are allowed to use pretrained networks, and utilize transfer learning. "
   ]
  },
  {
   "cell_type": "markdown",
   "metadata": {},
   "source": [
    "## HW Submission Details:\n",
    "There are three components to reporting the results of this task: \n",
    "\n",
    "**(A) Submission (up to 20 submissions each day) of the .csv prediction file throught the Kaggle platform;**. You should start doing this __VERY early__, so that students can compare their work as they are making progress with model optimization.\n",
    "\n",
    "**(B) Editing and submitting the content of this Jupyter notebook, through Courseworks; **\n",
    "(i) The code for your CNN model and for the training function. The code should be stored in __./ecbm4040/neuralnets/kaggle.py__;\n",
    "(ii) Print out your training process and accuracy __within this notebook__;\n",
    "\n",
    "**(C) Submitting your best CNN model through Github Classroom repo.**\n",
    "\n",
    "**Description of (C):** \n",
    "For this task, we will continue to use Github classroom to save your model for submission. \n",
    "\n",
    "<span style=\"color:red\">__Submission content:__ :</span>\n",
    "(i) In your Assignment 2 submission folder, create a subfolder called __KaggleModel__. Upload your best model with all the data output (for example, __MODEL.data-00000-of-00001, MODEL.meta, MODEL.index__) into the folder. \n",
    "(ii) Remember to delete any intermediate results, **we only want your best model. Do not upload any data files**. The instructors will rerun the uploaded best model and verify against the score which you reported on the Kaggle.\n",
    "\n"
   ]
  },
  {
   "cell_type": "markdown",
   "metadata": {},
   "source": [
    "## Load Data"
   ]
  },
  {
   "cell_type": "code",
   "execution_count": 1,
   "metadata": {
    "tags": []
   },
   "outputs": [
    {
     "name": "stdout",
     "output_type": "stream",
     "text": [
      "Reading folder 1\n",
      "Reading folder 3\n",
      "Reading folder 0\n",
      "Reading folder 2\n",
      "Reading folder 4\n",
      "Reading Test Images\n",
      "Training data shape:  (15000, 128, 128, 3)\n",
      "Training labels shape:  (15000,)\n",
      "Test data shape:  (3500, 128, 128, 3)\n"
     ]
    }
   ],
   "source": [
    "#Generate dataset\n",
    "import os\n",
    "import pandas as pd\n",
    "import numpy as np\n",
    "from PIL import Image\n",
    "\n",
    "\n",
    "#Load Training images and labels\n",
    "train_directory = \"./data/kaggle_train_128/train_128\" #TODO: Enter path for train128 folder (hint: use os.getcwd())\n",
    "image_list=[]\n",
    "label_list=[]\n",
    "for sub_dir in os.listdir(train_directory):\n",
    "    print(\"Reading folder {}\".format(sub_dir))\n",
    "    sub_dir_name=os.path.join(train_directory,sub_dir)\n",
    "    for file in os.listdir(sub_dir_name):\n",
    "        filename = os.fsdecode(file)\n",
    "        if filename.endswith(\".jpg\") or filename.endswith(\".png\"):\n",
    "            image_list.append(np.array(Image.open(os.path.join(sub_dir_name,file))))\n",
    "            label_list.append(int(sub_dir))\n",
    "X_train=np.array(image_list)\n",
    "y_train=np.array(label_list)\n",
    "\n",
    "#Load Test images\n",
    "test_directory = \"./data/kaggle_test_128/test_128\"#TODO: Enter path for test128 folder (hint: use os.getcwd())\n",
    "test_image_list=[]\n",
    "test_df = pd.DataFrame([], columns=['Id', 'X'])\n",
    "print(\"Reading Test Images\")\n",
    "for file in os.listdir(test_directory):\n",
    "    filename = os.fsdecode(file)\n",
    "    if filename.endswith(\".jpg\") or filename.endswith(\".png\"):\n",
    "        test_df = test_df.append({\n",
    "            'Id': filename,\n",
    "            'X': np.array(Image.open(os.path.join(test_directory,file)))\n",
    "        }, ignore_index=True)\n",
    "        \n",
    "test_df['s'] = [int(x.split('.')[0]) for x in test_df['Id']]\n",
    "test_df = test_df.sort_values(by=['s'])\n",
    "test_df = test_df.drop(columns=['s'])\n",
    "X_test = np.stack(test_df['X'])\n",
    "\n",
    "\n",
    "print('Training data shape: ', X_train.shape)\n",
    "print('Training labels shape: ', y_train.shape)\n",
    "print('Test data shape: ', X_test.shape)"
   ]
  },
  {
   "cell_type": "markdown",
   "metadata": {},
   "source": [
    "## Build and Train Your Model Here"
   ]
  },
  {
   "cell_type": "code",
   "execution_count": 2,
   "metadata": {},
   "outputs": [],
   "source": [
    "# import\n",
    "import datetime\n",
    "import tensorflow as tf\n",
    "from tensorflow.keras.models import Sequential\n",
    "from tensorflow.keras.layers import Dense, Flatten, Conv2D, Dropout, MaxPooling2D, AveragePooling2D\n",
    "from tensorflow.keras import Model\n",
    "from tensorflow.keras.utils import to_categorical\n",
    "from tensorflow.keras.losses import categorical_crossentropy\n",
    "from tensorflow.keras.models import load_model\n",
    "from tensorflow.keras.preprocessing.image import ImageDataGenerator\n"
   ]
  },
  {
   "cell_type": "code",
   "execution_count": 4,
   "metadata": {},
   "outputs": [
    {
     "name": "stdout",
     "output_type": "stream",
     "text": [
      "WARNING:tensorflow:From <ipython-input-4-17bb7203622b>:1: is_gpu_available (from tensorflow.python.framework.test_util) is deprecated and will be removed in a future version.\n",
      "Instructions for updating:\n",
      "Use `tf.config.list_physical_devices('GPU')` instead.\n"
     ]
    },
    {
     "data": {
      "text/plain": [
       "True"
      ]
     },
     "execution_count": 4,
     "metadata": {},
     "output_type": "execute_result"
    }
   ],
   "source": [
    "# tf.test.is_gpu_available()"
   ]
  },
  {
   "cell_type": "code",
   "execution_count": 3,
   "metadata": {},
   "outputs": [],
   "source": [
    "import pathlib \n",
    "train_dir = pathlib.Path('./data/kaggle_train_128')\n",
    "train_dir = train_dir / 'train_128'"
   ]
  },
  {
   "cell_type": "code",
   "execution_count": 4,
   "metadata": {},
   "outputs": [
    {
     "name": "stdout",
     "output_type": "stream",
     "text": [
      "Found 12000 images belonging to 5 classes.\n",
      "Found 3000 images belonging to 5 classes.\n"
     ]
    }
   ],
   "source": [
    "# trdata = ImageDataGenerator(rescale=1./255,validation_split=0.2)\n",
    "# trdata = ImageDataGenerator(\n",
    "#         rotation_range=10, # rotation\n",
    "#         width_shift_range=0.2, # horizontal shift\n",
    "#         height_shift_range=0.2, # vertical shift\n",
    "#         zoom_range=0.2, # zoom\n",
    "#         horizontal_flip=True, # horizontal flip\n",
    "#         validation_split=0.2,\n",
    "#         brightness_range=[0.2,1.2]) # brightness\n",
    "trdata = ImageDataGenerator(validation_split=0.2)\n",
    "train_data = trdata.flow_from_directory(directory=train_dir, target_size=(128,128), subset='training')\n",
    "valid_data = trdata.flow_from_directory(directory=train_dir, target_size=(128,128), subset='validation')\n"
   ]
  },
  {
   "cell_type": "code",
   "execution_count": 7,
   "metadata": {},
   "outputs": [
    {
     "name": "stdout",
     "output_type": "stream",
     "text": [
      "Model: \"sequential_1\"\n",
      "_________________________________________________________________\n",
      "Layer (type)                 Output Shape              Param #   \n",
      "=================================================================\n",
      "conv2d_8 (Conv2D)            (None, 128, 128, 64)      1792      \n",
      "_________________________________________________________________\n",
      "conv2d_9 (Conv2D)            (None, 128, 128, 64)      36928     \n",
      "_________________________________________________________________\n",
      "max_pooling2d_4 (MaxPooling2 (None, 64, 64, 64)        0         \n",
      "_________________________________________________________________\n",
      "conv2d_10 (Conv2D)           (None, 64, 64, 128)       73856     \n",
      "_________________________________________________________________\n",
      "conv2d_11 (Conv2D)           (None, 64, 64, 128)       147584    \n",
      "_________________________________________________________________\n",
      "max_pooling2d_5 (MaxPooling2 (None, 32, 32, 128)       0         \n",
      "_________________________________________________________________\n",
      "conv2d_12 (Conv2D)           (None, 32, 32, 256)       295168    \n",
      "_________________________________________________________________\n",
      "conv2d_13 (Conv2D)           (None, 32, 32, 256)       590080    \n",
      "_________________________________________________________________\n",
      "max_pooling2d_6 (MaxPooling2 (None, 16, 16, 256)       0         \n",
      "_________________________________________________________________\n",
      "conv2d_14 (Conv2D)           (None, 16, 16, 512)       1180160   \n",
      "_________________________________________________________________\n",
      "conv2d_15 (Conv2D)           (None, 16, 16, 512)       2359808   \n",
      "_________________________________________________________________\n",
      "max_pooling2d_7 (MaxPooling2 (None, 8, 8, 512)         0         \n",
      "_________________________________________________________________\n",
      "flatten_1 (Flatten)          (None, 32768)             0         \n",
      "_________________________________________________________________\n",
      "dense_3 (Dense)              (None, 4096)              134221824 \n",
      "_________________________________________________________________\n",
      "dense_4 (Dense)              (None, 4096)              16781312  \n",
      "_________________________________________________________________\n",
      "dense_5 (Dense)              (None, 5)                 20485     \n",
      "=================================================================\n",
      "Total params: 155,708,997\n",
      "Trainable params: 155,708,997\n",
      "Non-trainable params: 0\n",
      "_________________________________________________________________\n"
     ]
    }
   ],
   "source": [
    "model = Sequential()\n",
    "model.add(Conv2D(input_shape=(128,128,3),filters=64,kernel_size=(3,3),padding=\"same\", activation=\"relu\"))\n",
    "model.add(Conv2D(filters=64,kernel_size=(3,3),padding=\"same\", activation=\"relu\"))\n",
    "model.add(MaxPooling2D(pool_size=(2,2),strides=(2,2)))\n",
    "model.add(Conv2D(filters=128, kernel_size=(3,3), padding=\"same\", activation=\"relu\"))\n",
    "model.add(Conv2D(filters=128, kernel_size=(3,3), padding=\"same\", activation=\"relu\"))\n",
    "model.add(MaxPooling2D(pool_size=(2,2),strides=(2,2)))\n",
    "model.add(Conv2D(filters=256, kernel_size=(3,3), padding=\"same\", activation=\"relu\"))\n",
    "model.add(Conv2D(filters=256, kernel_size=(3,3), padding=\"same\", activation=\"relu\"))\n",
    "model.add(MaxPooling2D(pool_size=(2,2),strides=(2,2)))\n",
    "model.add(Conv2D(filters=512, kernel_size=(3,3), padding=\"same\", activation=\"relu\"))\n",
    "model.add(Conv2D(filters=512, kernel_size=(3,3), padding=\"same\", activation=\"relu\"))\n",
    "model.add(MaxPooling2D(pool_size=(2,2),strides=(2,2)))\n",
    "model.add(Flatten())\n",
    "model.add(Dense(units=4096,activation=\"relu\"))\n",
    "model.add(Dense(units=4096,activation=\"relu\"))\n",
    "# model.add(Dropout(0.2))\n",
    "model.add(Dense(units= 5, activation=\"softmax\"))\n",
    "model.summary()\n"
   ]
  },
  {
   "cell_type": "code",
   "execution_count": 10,
   "metadata": {},
   "outputs": [
    {
     "name": "stderr",
     "output_type": "stream",
     "text": [
      "/home/ecbm4040/envTF24/lib/python3.6/site-packages/tensorflow/python/keras/engine/training.py:1844: UserWarning: `Model.fit_generator` is deprecated and will be removed in a future version. Please use `Model.fit`, which supports generators.\n",
      "  warnings.warn('`Model.fit_generator` is deprecated and '\n"
     ]
    },
    {
     "name": "stdout",
     "output_type": "stream",
     "text": [
      "Epoch 1/15\n",
      "375/375 [==============================] - 47s 124ms/step - loss: 0.1995 - accuracy: 0.9320 - val_loss: 0.4793 - val_accuracy: 0.8344\n",
      "Epoch 2/15\n",
      "375/375 [==============================] - 47s 125ms/step - loss: 0.1976 - accuracy: 0.9335 - val_loss: 0.5990 - val_accuracy: 0.8375\n",
      "Epoch 3/15\n",
      "375/375 [==============================] - 48s 127ms/step - loss: 0.1537 - accuracy: 0.9453 - val_loss: 0.7140 - val_accuracy: 0.8219\n",
      "Epoch 4/15\n",
      "375/375 [==============================] - 48s 127ms/step - loss: 0.1318 - accuracy: 0.9527 - val_loss: 0.5928 - val_accuracy: 0.8656\n",
      "Epoch 5/15\n",
      "375/375 [==============================] - 48s 129ms/step - loss: 0.1401 - accuracy: 0.9519 - val_loss: 0.9045 - val_accuracy: 0.8375\n",
      "Epoch 6/15\n",
      "375/375 [==============================] - 48s 129ms/step - loss: 0.1096 - accuracy: 0.9605 - val_loss: 0.6857 - val_accuracy: 0.8625\n",
      "Epoch 7/15\n",
      "375/375 [==============================] - 48s 129ms/step - loss: 0.1087 - accuracy: 0.9636 - val_loss: 1.0261 - val_accuracy: 0.8344\n",
      "Epoch 8/15\n",
      "375/375 [==============================] - 48s 129ms/step - loss: 0.0985 - accuracy: 0.9667 - val_loss: 0.6079 - val_accuracy: 0.8750\n",
      "Epoch 9/15\n",
      "375/375 [==============================] - 48s 129ms/step - loss: 0.0920 - accuracy: 0.9677 - val_loss: 0.5700 - val_accuracy: 0.8844\n",
      "Epoch 10/15\n",
      "375/375 [==============================] - 48s 129ms/step - loss: 0.0899 - accuracy: 0.9695 - val_loss: 0.7736 - val_accuracy: 0.8562\n",
      "Epoch 11/15\n",
      "375/375 [==============================] - 48s 129ms/step - loss: 0.1084 - accuracy: 0.9626 - val_loss: 0.8836 - val_accuracy: 0.8313\n",
      "Epoch 12/15\n",
      "375/375 [==============================] - 48s 129ms/step - loss: 0.0972 - accuracy: 0.9694 - val_loss: 0.9110 - val_accuracy: 0.8656\n",
      "Epoch 13/15\n",
      "375/375 [==============================] - 48s 129ms/step - loss: 0.0652 - accuracy: 0.9777 - val_loss: 0.8309 - val_accuracy: 0.8531\n",
      "Epoch 14/15\n",
      "375/375 [==============================] - 48s 129ms/step - loss: 0.0567 - accuracy: 0.9827 - val_loss: 0.5247 - val_accuracy: 0.8875\n",
      "Epoch 15/15\n",
      "375/375 [==============================] - 48s 129ms/step - loss: 0.0916 - accuracy: 0.9721 - val_loss: 1.3172 - val_accuracy: 0.8438\n"
     ]
    }
   ],
   "source": [
    "model.compile(optimizer='adam', \n",
    "              loss='categorical_crossentropy', \n",
    "              metrics=['accuracy'])\n",
    "\n",
    "history = model.fit_generator(generator=train_data, \n",
    "                           validation_data= valid_data, \n",
    "                           validation_steps=10,\n",
    "                           epochs=15)"
   ]
  },
  {
   "cell_type": "markdown",
   "metadata": {},
   "source": [
    "## Save your best model"
   ]
  },
  {
   "cell_type": "code",
   "execution_count": 11,
   "metadata": {},
   "outputs": [
    {
     "name": "stdout",
     "output_type": "stream",
     "text": [
      "INFO:tensorflow:Assets written to: ./KaggleModel/assets\n"
     ]
    }
   ],
   "source": [
    "model.save(filepath = \"./KaggleModel\")"
   ]
  },
  {
   "cell_type": "code",
   "execution_count": null,
   "metadata": {},
   "outputs": [],
   "source": [
    "# model link is in <https://drive.google.com/file/d/1kCSzf6l0vbKSmR-bTPhjxcX8gxdngDua/view?usp=sharing>\n",
    "# This is shared to lionmail"
   ]
  },
  {
   "cell_type": "code",
   "execution_count": null,
   "metadata": {},
   "outputs": [],
   "source": [
    "# loaded_model = tf.keras.models.load_model(\"./KaggleModel\")"
   ]
  },
  {
   "cell_type": "markdown",
   "metadata": {},
   "source": [
    "## Generate .csv file for Kaggle\n",
    "\n",
    "The following code snippet can be used to generate your prediction .csv file.\n",
    "\n",
    "NOTE: If your kaggle results are indicating random performance, then it's likely that the indices of your csv predictions are misaligned."
   ]
  },
  {
   "cell_type": "code",
   "execution_count": 12,
   "metadata": {},
   "outputs": [],
   "source": [
    "import numpy as np\n",
    "import csv\n",
    "\n",
    "test_dir = pathlib.Path('./data/kaggle_test_128')\n",
    "test_dir = test_dir / 'test_128'\n",
    "# tsdata = ImageDataGenerator(samplewise_center = True, samplewise_std_normalization=True)\n",
    "# test_gen = tsdata.flow_from_directory(directory=test_dir,target_size=(128,128))\n",
    "\n",
    "predicted_values_generated_by_your_model = {}\n",
    "for image_path in test_dir.glob(\"*\"):\n",
    "    image = tf.keras.preprocessing.image.load_img(image_path,target_size = (128, 128))\n",
    "    #image = test_gen.standardize(image)\n",
    "    image = np.expand_dims(image, 0)\n",
    "    preds = model.predict(image)\n",
    "    pred = np.argmax(preds)    \n",
    "    predicted_values_generated_by_your_model[image_path.name] = pred"
   ]
  },
  {
   "cell_type": "code",
   "execution_count": 13,
   "metadata": {},
   "outputs": [],
   "source": [
    "# import csv\n",
    "\n",
    "with open('predicted.csv','w') as csvfile:\n",
    "    fieldnames = ['Id','label']\n",
    "    writer = csv.DictWriter(csvfile, fieldnames=fieldnames)\n",
    "    writer.writeheader()\n",
    "    for index in predicted_values_generated_by_your_model:\n",
    "        filename = str(index)\n",
    "        label = str(predicted_values_generated_by_your_model[index])\n",
    "        writer.writerow({'Id': filename, 'label': label})"
   ]
  },
  {
   "cell_type": "code",
   "execution_count": null,
   "metadata": {},
   "outputs": [],
   "source": [
    "!sudo apt-get install tree\n",
    "!tree ./ >> README.md"
   ]
  }
 ],
 "metadata": {
  "kernelspec": {
   "display_name": "Python 3",
   "language": "python",
   "name": "python3"
  },
  "language_info": {
   "codemirror_mode": {
    "name": "ipython",
    "version": 3
   },
   "file_extension": ".py",
   "mimetype": "text/x-python",
   "name": "python",
   "nbconvert_exporter": "python",
   "pygments_lexer": "ipython3",
   "version": "3.6.9"
  }
 },
 "nbformat": 4,
 "nbformat_minor": 4
}
